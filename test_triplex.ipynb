{
 "cells": [
  {
   "cell_type": "code",
   "execution_count": null,
   "metadata": {},
   "outputs": [],
   "source": [
    "import json\n",
    "from transformers import AutoModelForCausalLM, AutoTokenizer\n",
    "\n",
    "def triplextract(model, tokenizer, text, entity_types, predicates):\n",
    "\n",
    "    input_format = \"\"\"Perform Named Entity Recognition (NER) and extract knowledge graph triplets from the text. NER identifies named entities of given entity types, and triple extraction identifies relationships between entities using specified predicates.\n",
    "      \n",
    "        **Entity Types:**\n",
    "        {entity_types}\n",
    "        \n",
    "        **Predicates:**\n",
    "        {predicates}\n",
    "        \n",
    "        **Text:**\n",
    "        {text}\n",
    "        \"\"\"\n",
    "\n",
    "    message = input_format.format(\n",
    "                entity_types = json.dumps({\"entity_types\": entity_types}),\n",
    "                predicates = json.dumps({\"predicates\": predicates}),\n",
    "                text = text)\n",
    "\n",
    "    messages = [{'role': 'user', 'content': message}]\n",
    "    input_ids = tokenizer.apply_chat_template(messages, add_generation_prompt = True, return_tensors=\"pt\").to(\"cuda\")\n",
    "    output = tokenizer.decode(model.generate(input_ids=input_ids, max_length=2048)[0], skip_special_tokens=True)\n",
    "    return output\n",
    "\n",
    "model = AutoModelForCausalLM.from_pretrained(\"sciphi/triplex\", trust_remote_code=True).to('cuda').eval()\n",
    "tokenizer = AutoTokenizer.from_pretrained(\"sciphi/triplex\", trust_remote_code=True)\n",
    "\n",
    "entity_types = [ \"LOCATION\", \"POSITION\", \"DATE\", \"CITY\", \"COUNTRY\", \"NUMBER\" ]\n",
    "predicates = [ \"POPULATION\", \"AREA\" ]\n",
    "text = \"\"\"\n",
    "San Francisco,[24] officially the City and County of San Francisco, is a commercial, financial, and cultural center in Northern California. \n",
    "\n",
    "With a population of 808,437 residents as of 2022, San Francisco is the fourth most populous city in the U.S. state of California behind Los Angeles, San Diego, and San Jose.\n",
    "\"\"\"\n",
    "\n",
    "prediction = triplextract(model, tokenizer, text, entity_types, predicates)\n",
    "print(prediction)\n"
   ]
  }
 ],
 "metadata": {
  "kernelspec": {
   "display_name": "Python 3",
   "language": "python",
   "name": "python3"
  },
  "language_info": {
   "name": "python",
   "version": "3.11.0"
  }
 },
 "nbformat": 4,
 "nbformat_minor": 2
}
